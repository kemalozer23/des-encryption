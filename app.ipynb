{
 "cells": [
  {
   "cell_type": "code",
   "execution_count": 6,
   "metadata": {},
   "outputs": [],
   "source": [
    "import numpy as np\n",
    "import pandas as pd\n",
    "\n",
    "from library import INITIAL_PERMUTATION_TABLE, INVERSE_PERMUTATION_TABLE, PC1_TABLE, PC2_TABLE, EXPANSION_TABLE, SBOX, PERMUTATION_TABLE\n",
    "\n",
    "\n",
    "import textwrap"
   ]
  },
  {
   "cell_type": "markdown",
   "metadata": {},
   "source": [
    "### Açık metine karşılık gelen ikili kod"
   ]
  },
  {
   "cell_type": "code",
   "execution_count": 63,
   "metadata": {},
   "outputs": [],
   "source": [
    "def string_to_binary(plaintext):\n",
    "    binary_plaintext = ''.join(format(ord(i),'b').zfill(8) for i in plaintext) \n",
    "    return binary_plaintext"
   ]
  },
  {
   "cell_type": "code",
   "execution_count": 99,
   "metadata": {},
   "outputs": [],
   "source": [
    "binary_plaintext = string_to_binary(\"kemaloze\")\n",
    "bp = []\n",
    "\n",
    "for i in range(64):\n",
    "    bp.append(binary_plaintext[i])"
   ]
  },
  {
   "cell_type": "code",
   "execution_count": 98,
   "metadata": {},
   "outputs": [
    {
     "data": {
      "text/html": [
       "<div>\n",
       "<style scoped>\n",
       "    .dataframe tbody tr th:only-of-type {\n",
       "        vertical-align: middle;\n",
       "    }\n",
       "\n",
       "    .dataframe tbody tr th {\n",
       "        vertical-align: top;\n",
       "    }\n",
       "\n",
       "    .dataframe thead th {\n",
       "        text-align: right;\n",
       "    }\n",
       "</style>\n",
       "<table border=\"1\" class=\"dataframe\">\n",
       "  <thead>\n",
       "    <tr style=\"text-align: right;\">\n",
       "      <th></th>\n",
       "      <th>0</th>\n",
       "      <th>1</th>\n",
       "      <th>2</th>\n",
       "      <th>3</th>\n",
       "      <th>4</th>\n",
       "      <th>5</th>\n",
       "      <th>6</th>\n",
       "      <th>7</th>\n",
       "    </tr>\n",
       "  </thead>\n",
       "  <tbody>\n",
       "    <tr>\n",
       "      <th>0</th>\n",
       "      <td>0</td>\n",
       "      <td>1</td>\n",
       "      <td>1</td>\n",
       "      <td>0</td>\n",
       "      <td>1</td>\n",
       "      <td>0</td>\n",
       "      <td>1</td>\n",
       "      <td>1</td>\n",
       "    </tr>\n",
       "    <tr>\n",
       "      <th>1</th>\n",
       "      <td>0</td>\n",
       "      <td>1</td>\n",
       "      <td>1</td>\n",
       "      <td>0</td>\n",
       "      <td>0</td>\n",
       "      <td>1</td>\n",
       "      <td>0</td>\n",
       "      <td>1</td>\n",
       "    </tr>\n",
       "    <tr>\n",
       "      <th>2</th>\n",
       "      <td>0</td>\n",
       "      <td>1</td>\n",
       "      <td>1</td>\n",
       "      <td>0</td>\n",
       "      <td>1</td>\n",
       "      <td>1</td>\n",
       "      <td>0</td>\n",
       "      <td>1</td>\n",
       "    </tr>\n",
       "    <tr>\n",
       "      <th>3</th>\n",
       "      <td>0</td>\n",
       "      <td>1</td>\n",
       "      <td>1</td>\n",
       "      <td>0</td>\n",
       "      <td>0</td>\n",
       "      <td>0</td>\n",
       "      <td>0</td>\n",
       "      <td>1</td>\n",
       "    </tr>\n",
       "    <tr>\n",
       "      <th>4</th>\n",
       "      <td>0</td>\n",
       "      <td>1</td>\n",
       "      <td>1</td>\n",
       "      <td>0</td>\n",
       "      <td>1</td>\n",
       "      <td>1</td>\n",
       "      <td>0</td>\n",
       "      <td>0</td>\n",
       "    </tr>\n",
       "    <tr>\n",
       "      <th>5</th>\n",
       "      <td>0</td>\n",
       "      <td>1</td>\n",
       "      <td>1</td>\n",
       "      <td>0</td>\n",
       "      <td>1</td>\n",
       "      <td>1</td>\n",
       "      <td>1</td>\n",
       "      <td>1</td>\n",
       "    </tr>\n",
       "    <tr>\n",
       "      <th>6</th>\n",
       "      <td>0</td>\n",
       "      <td>1</td>\n",
       "      <td>1</td>\n",
       "      <td>1</td>\n",
       "      <td>1</td>\n",
       "      <td>0</td>\n",
       "      <td>1</td>\n",
       "      <td>0</td>\n",
       "    </tr>\n",
       "    <tr>\n",
       "      <th>7</th>\n",
       "      <td>0</td>\n",
       "      <td>1</td>\n",
       "      <td>1</td>\n",
       "      <td>0</td>\n",
       "      <td>0</td>\n",
       "      <td>1</td>\n",
       "      <td>0</td>\n",
       "      <td>1</td>\n",
       "    </tr>\n",
       "  </tbody>\n",
       "</table>\n",
       "</div>"
      ],
      "text/plain": [
       "   0  1  2  3  4  5  6  7\n",
       "0  0  1  1  0  1  0  1  1\n",
       "1  0  1  1  0  0  1  0  1\n",
       "2  0  1  1  0  1  1  0  1\n",
       "3  0  1  1  0  0  0  0  1\n",
       "4  0  1  1  0  1  1  0  0\n",
       "5  0  1  1  0  1  1  1  1\n",
       "6  0  1  1  1  1  0  1  0\n",
       "7  0  1  1  0  0  1  0  1"
      ]
     },
     "execution_count": 98,
     "metadata": {},
     "output_type": "execute_result"
    }
   ],
   "source": [
    "BP = pd.DataFrame([bp[0:8],\n",
    "                bp[8:16],\n",
    "                bp[16:24],\n",
    "                bp[24:32],\n",
    "                bp[32:40],\n",
    "                bp[40:48],\n",
    "                bp[48:56],\n",
    "                bp[56:64]])\n",
    "BP"
   ]
  },
  {
   "cell_type": "markdown",
   "metadata": {},
   "source": [
    "### IP uygulanması"
   ]
  },
  {
   "cell_type": "markdown",
   "metadata": {},
   "source": [
    "![IP](http://www.umsl.edu/~siegelj/information_theory/projects/des.netau.net/images/ip2.png)"
   ]
  },
  {
   "cell_type": "code",
   "execution_count": 70,
   "metadata": {},
   "outputs": [],
   "source": [
    "def apply_initial_permutation(binary_plaintext,INITIAL_PERMUTATION_TABLE):\n",
    "    permutated_text = \"\"\n",
    "    for index in INITIAL_PERMUTATION_TABLE:\n",
    "        permutated_text += binary_plaintext[index-1]\n",
    "    return permutated_text"
   ]
  },
  {
   "cell_type": "markdown",
   "metadata": {},
   "source": [
    "### L0 ve R0 ayrımı"
   ]
  },
  {
   "cell_type": "code",
   "execution_count": 22,
   "metadata": {},
   "outputs": [],
   "source": [
    "def split_in_half(binarybits):\n",
    "    L0 = binarybits[:32]\n",
    "    R0 = binarybits[32:]\n",
    "    return L0,R0"
   ]
  },
  {
   "cell_type": "markdown",
   "metadata": {},
   "source": [
    "## F FONKSİYONU"
   ]
  },
  {
   "cell_type": "markdown",
   "metadata": {},
   "source": [
    "#### R0'a Expansion Table uygulanması"
   ]
  },
  {
   "cell_type": "code",
   "execution_count": 25,
   "metadata": {},
   "outputs": [],
   "source": [
    "def apply_expansion(R0,EXPANSION_TABLE):\n",
    "    bits48 = \"\"\n",
    "    for index in EXPANSION_TABLE:\n",
    "        bits48 += R0[index-1]\n",
    "    return bits48"
   ]
  },
  {
   "cell_type": "markdown",
   "metadata": {},
   "source": [
    "#### XOR (K0 ile)"
   ]
  },
  {
   "cell_type": "code",
   "execution_count": 44,
   "metadata": {},
   "outputs": [],
   "source": [
    "def XOR(bits1,bits2):\n",
    "\txor_result = \"\"\n",
    "\tfor index in range(len(bits1)):\n",
    "\t\tif bits1[index] == bits2[index]: \n",
    "\t\t\txor_result += '0'\n",
    "\t\telse:\n",
    "\t\t\txor_result += '1'\n",
    "\treturn xor_result"
   ]
  },
  {
   "cell_type": "markdown",
   "metadata": {},
   "source": [
    "#### SBOX"
   ]
  },
  {
   "cell_type": "code",
   "execution_count": 52,
   "metadata": {},
   "outputs": [],
   "source": [
    "'''6 bitlik parçalara bölme'''\n",
    "\n",
    "def split_in_6bits(XOR_48bits):\n",
    "\tlist_of_6bits = textwrap.wrap(XOR_48bits,6)\n",
    "\treturn list_of_6bits"
   ]
  },
  {
   "cell_type": "code",
   "execution_count": 53,
   "metadata": {},
   "outputs": [],
   "source": [
    "'''İlk ve son bitin alınması'''\n",
    "\n",
    "def get_first_and_last_bit(bits6):\n",
    "\ttwobits = bits6[0] + bits6[-1] \n",
    "\treturn twobits"
   ]
  },
  {
   "cell_type": "code",
   "execution_count": 54,
   "metadata": {},
   "outputs": [],
   "source": [
    "'''Ortadaki 4 bitin alınması'''\n",
    "\n",
    "def get_middle_four_bit(bits6):\n",
    "\tfourbits = bits6[1:5] \n",
    "\treturn fourbits"
   ]
  },
  {
   "cell_type": "code",
   "execution_count": 55,
   "metadata": {},
   "outputs": [],
   "source": [
    "'''İkili kodun 10luk sistemdeki karşılığı'''\n",
    "\n",
    "def binary_to_decimal(binarybits):\n",
    "\tdecimal = int(binarybits,2)\n",
    "\treturn decimal"
   ]
  },
  {
   "cell_type": "code",
   "execution_count": 49,
   "metadata": {},
   "outputs": [],
   "source": [
    "'''10luk sistemdeki sayının ikili karşılığı'''\n",
    "\n",
    "def decimal_to_binary(decimal):\n",
    "\tbinary4bits = bin(decimal)[2:].zfill(4)\n",
    "\treturn binary4bits"
   ]
  },
  {
   "cell_type": "code",
   "execution_count": 56,
   "metadata": {},
   "outputs": [],
   "source": [
    "'''Satır ve sütun numaralarından sbox karşılığı'''\n",
    "\n",
    "def sbox_lookup(sboxcount,first_last,middle4):\n",
    "\td_first_last = binary_to_decimal(first_last)\n",
    "\td_middle = binary_to_decimal(middle4)\n",
    "\t\n",
    "\tsbox_value = SBOX[sboxcount][d_first_last][d_middle]\n",
    "\treturn decimal_to_binary(sbox_value)"
   ]
  },
  {
   "cell_type": "markdown",
   "metadata": {},
   "source": [
    "#### Permutation table"
   ]
  },
  {
   "cell_type": "code",
   "execution_count": null,
   "metadata": {},
   "outputs": [],
   "source": [
    "def apply_permutation(sbox_32bits,PERMUTATION_TABLE):\n",
    "\t\n",
    "\tfinal_32bits = \"\"\n",
    "\tfor index in PERMUTATION_TABLE:\n",
    "\t\tfinal_32bits += sbox_32bits[index-1]\n",
    "\treturn final_32bits"
   ]
  },
  {
   "cell_type": "markdown",
   "metadata": {},
   "source": [
    "### F fonksyonunun uygulanması"
   ]
  },
  {
   "cell_type": "code",
   "execution_count": 58,
   "metadata": {},
   "outputs": [],
   "source": [
    "def functionF(pre32bits, key48bits):\t\n",
    "\tresult = \"\"\n",
    "\texpanded_left_half = apply_expansion(pre32bits)\n",
    "\txor_value = XOR(expanded_left_half,key48bits)\n",
    "\tbits6list = split_in_6bits(xor_value)\n",
    "\tfor sboxcount, bits6 in enumerate(bits6list):\n",
    "\t\tfirst_last = get_first_and_last_bit(bits6)\n",
    "\t\tmiddle4 = get_middle_four_bit(bits6)\n",
    "\t\tsboxvalue = sbox_lookup(sboxcount,first_last,middle4)\n",
    "\t\tresult += sboxvalue\n",
    "\tfinal32bits = apply_permutation(result)\t\n",
    "\treturn final32bits"
   ]
  },
  {
   "cell_type": "markdown",
   "metadata": {},
   "source": [
    "### ANAHTAR OLUŞTURMA"
   ]
  },
  {
   "cell_type": "markdown",
   "metadata": {},
   "source": [
    "#### PC1"
   ]
  },
  {
   "cell_type": "markdown",
   "metadata": {},
   "source": [
    "![IP](http://www.umsl.edu/~siegelj/information_theory/projects/des.netau.net/images/ip2.png)"
   ]
  },
  {
   "cell_type": "code",
   "execution_count": 59,
   "metadata": {},
   "outputs": [],
   "source": [
    "def apply_pc1(key_64bits,PC1_TABLE):\n",
    "    key_56bits = \"\"\n",
    "    for index in PC1_TABLE:\n",
    "        key_56bits += key_64bits[index-1]\n",
    "    return key_56bits"
   ]
  },
  {
   "cell_type": "markdown",
   "metadata": {},
   "source": [
    "#### Left Key ve Right Key ayrımı"
   ]
  },
  {
   "cell_type": "code",
   "execution_count": 60,
   "metadata": {},
   "outputs": [],
   "source": [
    "def split_in_half(key_56bits):\n",
    "    left_key = key_56bits[:28]\n",
    "    right_key = key_56bits[28:]\n",
    "    return left_key,right_key"
   ]
  },
  {
   "cell_type": "markdown",
   "metadata": {},
   "source": [
    "#### Circular Left Shift"
   ]
  },
  {
   "cell_type": "code",
   "execution_count": null,
   "metadata": {},
   "outputs": [],
   "source": [
    "def circular_left_shift(left_key,right_key):\n",
    "    shifted_left = left_key[1:] + left_key[:1]\n",
    "    shifted_right = right_key[1:] + right_key[:1]\n",
    "    shifted = shifted_left + shifted_right\n",
    "    return shifted"
   ]
  },
  {
   "cell_type": "markdown",
   "metadata": {},
   "source": [
    "#### PC2"
   ]
  },
  {
   "cell_type": "code",
   "execution_count": 61,
   "metadata": {},
   "outputs": [],
   "source": [
    "def apply_pc2(shifted,PC2_TABLE):\n",
    "    key_48bits = \"\"\n",
    "    for index in PC2_TABLE:\n",
    "        keys_48bits += shifted[index-1]\n",
    "    return key_48bits"
   ]
  },
  {
   "cell_type": "markdown",
   "metadata": {},
   "source": [
    "### Anahtarın oluşturulması"
   ]
  },
  {
   "cell_type": "code",
   "execution_count": 71,
   "metadata": {},
   "outputs": [],
   "source": [
    "def generate_key(key_64bits):\n",
    "    pc1_out = apply_pc1(key_64bits) \n",
    "    C0,D0 = split_in_half(pc1_out)\n",
    "    shifted = circular_left_shift(C0,D0)\n",
    "    key = apply_pc2(shifted)\n",
    "    return key"
   ]
  },
  {
   "cell_type": "code",
   "execution_count": null,
   "metadata": {},
   "outputs": [],
   "source": []
  }
 ],
 "metadata": {
  "interpreter": {
   "hash": "b534e2124af7077393f074e7b52eca72645c535c953d670bad1c7cb61116b561"
  },
  "kernelspec": {
   "display_name": "Python 3.10.0 ('minimal_ds')",
   "language": "python",
   "name": "python3"
  },
  "language_info": {
   "codemirror_mode": {
    "name": "ipython",
    "version": 3
   },
   "file_extension": ".py",
   "mimetype": "text/x-python",
   "name": "python",
   "nbconvert_exporter": "python",
   "pygments_lexer": "ipython3",
   "version": "3.10.0"
  },
  "orig_nbformat": 4
 },
 "nbformat": 4,
 "nbformat_minor": 2
}
