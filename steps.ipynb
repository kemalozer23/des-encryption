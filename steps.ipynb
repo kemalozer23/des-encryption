{
 "cells": [
  {
   "cell_type": "code",
   "execution_count": 114,
   "metadata": {},
   "outputs": [],
   "source": [
    "import numpy as np\n",
    "import pandas as pd\n",
    "\n",
    "from library import INITIAL_PERMUTATION_TABLE, INVERSE_PERMUTATION_TABLE, PC1_TABLE, PC2_TABLE, EXPANSION_TABLE, SBOX, PERMUTATION_TABLE\n",
    "\n",
    "import textwrap"
   ]
  },
  {
   "cell_type": "markdown",
   "metadata": {},
   "source": [
    "### Açık metine karşılık gelen ikili kod"
   ]
  },
  {
   "cell_type": "code",
   "execution_count": 115,
   "metadata": {},
   "outputs": [],
   "source": [
    "def string_to_binary(plaintext):\n",
    "    binary_plaintext = ''.join(format(ord(i),'b').zfill(8) for i in plaintext) \n",
    "    return binary_plaintext"
   ]
  },
  {
   "cell_type": "markdown",
   "metadata": {},
   "source": [
    "### IP uygulanması"
   ]
  },
  {
   "cell_type": "markdown",
   "metadata": {},
   "source": [
    "![IP](http://www.umsl.edu/~siegelj/information_theory/projects/des.netau.net/images/ip2.png)"
   ]
  },
  {
   "cell_type": "code",
   "execution_count": 116,
   "metadata": {},
   "outputs": [],
   "source": [
    "def apply_initial_permutation(binary_plaintext,TABLE=INITIAL_PERMUTATION_TABLE):\n",
    "    permutated_text = \"\"\n",
    "    for index in TABLE:\n",
    "        permutated_text += binary_plaintext[index-1]\n",
    "    return permutated_text"
   ]
  },
  {
   "cell_type": "markdown",
   "metadata": {},
   "source": [
    "### L0 ve R0 ayrımı"
   ]
  },
  {
   "cell_type": "code",
   "execution_count": 163,
   "metadata": {},
   "outputs": [],
   "source": [
    "# def split_in_half(binarybits):\n",
    "#     L0 = binarybits[:4]\n",
    "#     R0 = binarybits[4:]\n",
    "#     return L0,R0"
   ]
  },
  {
   "cell_type": "markdown",
   "metadata": {},
   "source": [
    "### IP^-1 uygulanması"
   ]
  },
  {
   "cell_type": "code",
   "execution_count": 118,
   "metadata": {},
   "outputs": [],
   "source": [
    "def apply_inverse_permutation(binary_plaintext,TABLE=INVERSE_PERMUTATION_TABLE):\n",
    "    permutated_text = \"\"\n",
    "    for index in TABLE:\n",
    "        permutated_text += binary_plaintext[index-1]\n",
    "    return permutated_text"
   ]
  },
  {
   "cell_type": "markdown",
   "metadata": {},
   "source": [
    "## F FONKSİYONU"
   ]
  },
  {
   "cell_type": "markdown",
   "metadata": {},
   "source": [
    "#### R0'a Expansion Table uygulanması"
   ]
  },
  {
   "cell_type": "markdown",
   "metadata": {},
   "source": [
    "![](https://www.tutorialspoint.com/cryptography/images/des_specification.jpg)"
   ]
  },
  {
   "cell_type": "code",
   "execution_count": 119,
   "metadata": {},
   "outputs": [],
   "source": [
    "def apply_expansion(R0,TABLE=EXPANSION_TABLE):\n",
    "    bits48 = \"\"\n",
    "    for index in TABLE:\n",
    "        bits48 += R0[index-1]\n",
    "    return bits48"
   ]
  },
  {
   "cell_type": "markdown",
   "metadata": {},
   "source": [
    "#### XOR (K1 ile)"
   ]
  },
  {
   "cell_type": "code",
   "execution_count": 120,
   "metadata": {},
   "outputs": [],
   "source": [
    "def XOR(bits1,bits2):\n",
    "\txor_result = \"\"\n",
    "\tfor index in range(len(bits1)):\n",
    "\t\tif bits1[index] == bits2[index]: \n",
    "\t\t\txor_result += '0'\n",
    "\t\telse:\n",
    "\t\t\txor_result += '1'\n",
    "\treturn xor_result"
   ]
  },
  {
   "cell_type": "markdown",
   "metadata": {},
   "source": [
    "#### SBOX"
   ]
  },
  {
   "cell_type": "markdown",
   "metadata": {},
   "source": [
    "![](https://www.researchgate.net/profile/Miroslaw-Szaban/publication/220440933/figure/fig7/AS:668741075484682@1536451705920/Function-S-box-S1-in-the-DES-algorithm-represented-as-a-table-and-its-work-on-the.ppm)"
   ]
  },
  {
   "cell_type": "code",
   "execution_count": 121,
   "metadata": {},
   "outputs": [],
   "source": [
    "'''6 bitlik parçalara bölme'''\n",
    "\n",
    "def split_in_6bits(XOR_48bits):\n",
    "\tlist_of_6bits = textwrap.wrap(XOR_48bits,6)\n",
    "\treturn list_of_6bits"
   ]
  },
  {
   "cell_type": "code",
   "execution_count": 122,
   "metadata": {},
   "outputs": [],
   "source": [
    "'''İlk ve son bitin alınması'''\n",
    "\n",
    "def get_first_and_last_bit(bits6):\n",
    "\ttwobits = bits6[0] + bits6[-1] \n",
    "\treturn twobits"
   ]
  },
  {
   "cell_type": "code",
   "execution_count": 123,
   "metadata": {},
   "outputs": [],
   "source": [
    "'''Ortadaki 4 bitin alınması'''\n",
    "\n",
    "def get_middle_four_bit(bits6):\n",
    "\tfourbits = bits6[1:5] \n",
    "\treturn fourbits"
   ]
  },
  {
   "cell_type": "code",
   "execution_count": 124,
   "metadata": {},
   "outputs": [],
   "source": [
    "'''İkili kodun 10luk sistemdeki karşılığı'''\n",
    "\n",
    "def binary_to_decimal(binarybits):\n",
    "\tdecimal = int(binarybits,2)\n",
    "\treturn decimal"
   ]
  },
  {
   "cell_type": "code",
   "execution_count": 125,
   "metadata": {},
   "outputs": [],
   "source": [
    "'''10luk sistemdeki sayının ikili karşılığı'''\n",
    "\n",
    "def decimal_to_binary(decimal):\n",
    "\tbinary4bits = bin(decimal)[2:].zfill(4)\n",
    "\treturn binary4bits"
   ]
  },
  {
   "cell_type": "code",
   "execution_count": 139,
   "metadata": {},
   "outputs": [],
   "source": [
    "'''Satır ve sütun numaralarından sbox karşılığı'''\n",
    "\n",
    "def sbox_lookup(first_last,middle4):\n",
    "\td_first_last = binary_to_decimal(first_last)\n",
    "\td_middle = binary_to_decimal(middle4)\n",
    "\t\n",
    "\tsbox_value = SBOX[d_first_last][d_middle]\n",
    "\treturn decimal_to_binary(sbox_value)"
   ]
  },
  {
   "cell_type": "markdown",
   "metadata": {},
   "source": [
    "#### Permutation table"
   ]
  },
  {
   "cell_type": "code",
   "execution_count": 127,
   "metadata": {},
   "outputs": [],
   "source": [
    "def apply_permutation(sbox_32bits,TABLE=PERMUTATION_TABLE):\n",
    "\t\n",
    "\tfinal_32bits = \"\"\n",
    "\tfor index in TABLE:\n",
    "\t\tfinal_32bits += sbox_32bits[index-1]\n",
    "\treturn final_32bits"
   ]
  },
  {
   "cell_type": "markdown",
   "metadata": {},
   "source": [
    "### F fonksyonunun uygulanması"
   ]
  },
  {
   "cell_type": "markdown",
   "metadata": {},
   "source": [
    "![](https://upload.wikimedia.org/wikipedia/commons/thumb/2/25/Data_Encription_Standard_Flow_Diagram.svg/250px-Data_Encription_Standard_Flow_Diagram.svg.png)"
   ]
  },
  {
   "cell_type": "code",
   "execution_count": 153,
   "metadata": {},
   "outputs": [
    {
     "data": {
      "text/plain": [
       "['101110',\n",
       " '101010',\n",
       " '101011',\n",
       " '101101',\n",
       " '100110',\n",
       " '101010',\n",
       " '101101',\n",
       " '011111']"
      ]
     },
     "execution_count": 153,
     "metadata": {},
     "output_type": "execute_result"
    }
   ],
   "source": [
    "bits6list = split_in_6bits(\"101110101010101011101101100110101010101101011111\")\n",
    "bits6list"
   ]
  },
  {
   "cell_type": "code",
   "execution_count": 141,
   "metadata": {},
   "outputs": [],
   "source": [
    "def functionF(pre32bits, key48bits):\t\n",
    "\tresult = \"\"\n",
    "\texpanded_right_half = apply_expansion(pre32bits)\n",
    "\txor_value = XOR(expanded_right_half,key48bits)\n",
    "\tbits6list = split_in_6bits(xor_value)\n",
    "\tfor bits6 in enumerate(bits6list):\n",
    "\t\tfirst_last = get_first_and_last_bit(bits6)\n",
    "\t\tmiddle4 = get_middle_four_bit(bits6)\n",
    "\t\tsboxvalue = sbox_lookup(first_last,middle4)\n",
    "\t\tresult += sboxvalue\n",
    "\tfinal32bits = apply_permutation(result)\t\n",
    "\treturn final32bits"
   ]
  },
  {
   "cell_type": "markdown",
   "metadata": {},
   "source": [
    "### ANAHTAR OLUŞTURMA"
   ]
  },
  {
   "cell_type": "markdown",
   "metadata": {},
   "source": [
    "#### PC1"
   ]
  },
  {
   "cell_type": "markdown",
   "metadata": {},
   "source": [
    "![PC!](http://www.umsl.edu/~siegelj/information_theory/projects/des.netau.net/images/PC-1.png)"
   ]
  },
  {
   "cell_type": "code",
   "execution_count": 129,
   "metadata": {},
   "outputs": [],
   "source": [
    "def apply_pc1(key_64bits,TABLE = PC1_TABLE):\n",
    "    key_56bits = \"\"\n",
    "    for index in TABLE:\n",
    "        key_56bits += key_64bits[index-1]\n",
    "    return key_56bits"
   ]
  },
  {
   "cell_type": "markdown",
   "metadata": {},
   "source": [
    "#### Left Key ve Right Key ayrımı"
   ]
  },
  {
   "cell_type": "code",
   "execution_count": 130,
   "metadata": {},
   "outputs": [],
   "source": [
    "def split_in_half(key_56bits):\n",
    "    left_key = key_56bits[:28]\n",
    "    right_key = key_56bits[28:]\n",
    "    return left_key,right_key"
   ]
  },
  {
   "cell_type": "markdown",
   "metadata": {},
   "source": [
    "#### Circular Left Shift"
   ]
  },
  {
   "cell_type": "markdown",
   "metadata": {},
   "source": [
    "![](https://upload.wikimedia.org/wikipedia/commons/thumb/0/09/Rotate_left.svg/300px-Rotate_left.svg.png)"
   ]
  },
  {
   "cell_type": "code",
   "execution_count": 131,
   "metadata": {},
   "outputs": [],
   "source": [
    "def circular_left_shift(left_key,right_key):\n",
    "    shifted_left = left_key[1:] + left_key[:1]\n",
    "    shifted_right = right_key[1:] + right_key[:1]\n",
    "    shifted = shifted_left + shifted_right\n",
    "    return shifted"
   ]
  },
  {
   "cell_type": "markdown",
   "metadata": {},
   "source": [
    "#### PC2"
   ]
  },
  {
   "cell_type": "markdown",
   "metadata": {},
   "source": [
    "![](http://www.umsl.edu/~siegelj/information_theory/projects/des.netau.net/images/permuted%20choice2.png)"
   ]
  },
  {
   "cell_type": "code",
   "execution_count": 137,
   "metadata": {},
   "outputs": [],
   "source": [
    "def apply_pc2(shifted,TABLE=PC2_TABLE):\n",
    "    key_48bits = \"\"\n",
    "    for index in TABLE:\n",
    "        key_48bits += shifted[index-1]\n",
    "    return key_48bits"
   ]
  },
  {
   "cell_type": "markdown",
   "metadata": {},
   "source": [
    "### Anahtarın oluşturulması"
   ]
  },
  {
   "cell_type": "markdown",
   "metadata": {},
   "source": [
    "![](https://upload.wikimedia.org/wikipedia/commons/thumb/0/06/DES-key-schedule.png/250px-DES-key-schedule.png)"
   ]
  },
  {
   "cell_type": "code",
   "execution_count": 133,
   "metadata": {},
   "outputs": [],
   "source": [
    "def generate_key(key_64bits):\n",
    "    pc1_out = apply_pc1(key_64bits) \n",
    "    C0,D0 = split_in_half(pc1_out)\n",
    "    shifted = circular_left_shift(C0,D0)\n",
    "    key = apply_pc2(shifted)\n",
    "    return key"
   ]
  },
  {
   "cell_type": "markdown",
   "metadata": {},
   "source": [
    "# DES ALGORİTMASI"
   ]
  },
  {
   "cell_type": "markdown",
   "metadata": {},
   "source": [
    "![](https://www.researchgate.net/profile/Adeolu-Afolabi/publication/306425963/figure/fig2/AS:398613525090307@1472048278894/Depiction-of-One-Round-of-DES-212-3-DES-Algorithm-In-cryptography-techniques-Triple.png)"
   ]
  },
  {
   "cell_type": "code",
   "execution_count": 157,
   "metadata": {},
   "outputs": [],
   "source": [
    "def DES_encrypt(message,key):\n",
    "\tcipher = \"\"\n",
    "\n",
    "\tplaintext_bits = string_to_binary(message)\n",
    "\tkey_bits = string_to_binary(key)\n",
    "\t\n",
    "\troundkey = generate_key(key_bits)\n",
    "\t\n",
    "\t\n",
    "\t\n",
    "\tp_plaintext = apply_initial_permutation(plaintext_bits)\n",
    "\t\n",
    "\tL0,R0 = split_in_half(p_plaintext)\n",
    "\n",
    "\tR1 = XOR(L0,functionF(R0, roundkey))\n",
    "\tL1 = R0\n",
    "\n",
    "\tcipher = apply_inverse_permutation(L1+R1)\n",
    "\t\n",
    "\treturn cipher"
   ]
  },
  {
   "cell_type": "code",
   "execution_count": 158,
   "metadata": {},
   "outputs": [
    {
     "data": {
      "text/plain": [
       "'1001110010111111100111110011000011100111011011000100010101100100'"
      ]
     },
     "execution_count": 158,
     "metadata": {},
     "output_type": "execute_result"
    }
   ],
   "source": [
    "cipher = DES_encrypt(\"kemaloze\", \"21721149\")\n",
    "cipher"
   ]
  }
 ],
 "metadata": {
  "interpreter": {
   "hash": "b534e2124af7077393f074e7b52eca72645c535c953d670bad1c7cb61116b561"
  },
  "kernelspec": {
   "display_name": "Python 3.10.0 ('minimal_ds')",
   "language": "python",
   "name": "python3"
  },
  "language_info": {
   "codemirror_mode": {
    "name": "ipython",
    "version": 3
   },
   "file_extension": ".py",
   "mimetype": "text/x-python",
   "name": "python",
   "nbconvert_exporter": "python",
   "pygments_lexer": "ipython3",
   "version": "3.10.0"
  },
  "orig_nbformat": 4
 },
 "nbformat": 4,
 "nbformat_minor": 2
}
