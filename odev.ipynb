{
 "cells": [
  {
   "cell_type": "code",
   "execution_count": 1,
   "metadata": {},
   "outputs": [],
   "source": [
    "from library import string_to_binary, apply_expansion, split_in_half, apply_inverse_permutation, XOR, split_in_6bits, get_first_and_last_bit, get_middle_four_bit, binary_to_decimal, decimal_to_binary, sbox_lookup, apply_permutation, functionF, apply_pc1, apply_pc2, circular_left_shift, apply_initial_permutation, generate_key, DES_encrypt, binary_plaintext_table"
   ]
  },
  {
   "cell_type": "code",
   "execution_count": 2,
   "metadata": {},
   "outputs": [],
   "source": [
    "plaintext = \"kemaloze\" # 64bit olması için r harfini almadım\n",
    "anahtar = \"21721149\""
   ]
  },
  {
   "cell_type": "code",
   "execution_count": 3,
   "metadata": {},
   "outputs": [
    {
     "data": {
      "text/plain": [
       "'0110101101100101011011010110000101101100011011110111101001100101'"
      ]
     },
     "execution_count": 3,
     "metadata": {},
     "output_type": "execute_result"
    }
   ],
   "source": [
    "binary_plaintext = string_to_binary(plaintext)\n",
    "binary_plaintext"
   ]
  },
  {
   "cell_type": "code",
   "execution_count": 4,
   "metadata": {},
   "outputs": [
    {
     "data": {
      "text/plain": [
       "'1111111101000000101101101010111100000000111111110111010101100001'"
      ]
     },
     "execution_count": 4,
     "metadata": {},
     "output_type": "execute_result"
    }
   ],
   "source": [
    "permutated_text = apply_initial_permutation(binary_plaintext)\n",
    "permutated_text"
   ]
  },
  {
   "cell_type": "code",
   "execution_count": 5,
   "metadata": {},
   "outputs": [
    {
     "data": {
      "text/plain": [
       "['11111111010000001011011010101111', '00000000111111110111010101100001']"
      ]
     },
     "execution_count": 5,
     "metadata": {},
     "output_type": "execute_result"
    }
   ],
   "source": [
    "splitted = [permutated_text[:32], permutated_text[32:]]\n",
    "splitted"
   ]
  },
  {
   "cell_type": "code",
   "execution_count": 6,
   "metadata": {},
   "outputs": [],
   "source": [
    "L0 = splitted[0]\n",
    "R0 = splitted[1]"
   ]
  },
  {
   "cell_type": "code",
   "execution_count": 7,
   "metadata": {},
   "outputs": [
    {
     "data": {
      "text/plain": [
       "'100000000001011111111110101110101010101100000010'"
      ]
     },
     "execution_count": 7,
     "metadata": {},
     "output_type": "execute_result"
    }
   ],
   "source": [
    "expanded = apply_expansion(R0)\n",
    "expanded"
   ]
  },
  {
   "cell_type": "code",
   "execution_count": 8,
   "metadata": {},
   "outputs": [
    {
     "data": {
      "text/plain": [
       "'00000000000000001111111111110000110101000100100000001111'"
      ]
     },
     "execution_count": 8,
     "metadata": {},
     "output_type": "execute_result"
    }
   ],
   "source": [
    "key = string_to_binary(anahtar)\n",
    "pc1_applied = apply_pc1(key)\n",
    "pc1_applied"
   ]
  },
  {
   "cell_type": "code",
   "execution_count": 9,
   "metadata": {},
   "outputs": [
    {
     "data": {
      "text/plain": [
       "['0000000000000000111111111111', '0000110101000100100000001111']"
      ]
     },
     "execution_count": 9,
     "metadata": {},
     "output_type": "execute_result"
    }
   ],
   "source": [
    "splitted_key = [pc1_applied[:28], pc1_applied[28:]]\n",
    "splitted_key"
   ]
  },
  {
   "cell_type": "code",
   "execution_count": 10,
   "metadata": {},
   "outputs": [],
   "source": [
    "C0 = splitted_key[0]\n",
    "D0 = splitted_key[1]"
   ]
  },
  {
   "cell_type": "code",
   "execution_count": 11,
   "metadata": {},
   "outputs": [
    {
     "data": {
      "text/plain": [
       "'00000000000000011111111111100001101010001001000000011110'"
      ]
     },
     "execution_count": 11,
     "metadata": {},
     "output_type": "execute_result"
    }
   ],
   "source": [
    "shifted = circular_left_shift(C0,D0)\n",
    "shifted"
   ]
  },
  {
   "cell_type": "code",
   "execution_count": 12,
   "metadata": {},
   "outputs": [
    {
     "data": {
      "text/plain": [
       "'010100000010110010101100110101000010100001000001'"
      ]
     },
     "execution_count": 12,
     "metadata": {},
     "output_type": "execute_result"
    }
   ],
   "source": [
    "pc2_applied = apply_pc2(shifted)\n",
    "pc2_applied"
   ]
  },
  {
   "cell_type": "code",
   "execution_count": 13,
   "metadata": {},
   "outputs": [
    {
     "data": {
      "text/plain": [
       "'110100000011101101010010011011101000001101000011'"
      ]
     },
     "execution_count": 13,
     "metadata": {},
     "output_type": "execute_result"
    }
   ],
   "source": [
    "XORed = XOR(expanded, pc2_applied)\n",
    "XORed"
   ]
  },
  {
   "cell_type": "code",
   "execution_count": 14,
   "metadata": {},
   "outputs": [
    {
     "data": {
      "text/plain": [
       "['110100',\n",
       " '000011',\n",
       " '101101',\n",
       " '010010',\n",
       " '011011',\n",
       " '101000',\n",
       " '001101',\n",
       " '000011']"
      ]
     },
     "execution_count": 14,
     "metadata": {},
     "output_type": "execute_result"
    }
   ],
   "source": [
    "splitted_in_6bits = split_in_6bits(XORed)\n",
    "splitted_in_6bits"
   ]
  },
  {
   "cell_type": "code",
   "execution_count": 15,
   "metadata": {},
   "outputs": [
    {
     "name": "stdout",
     "output_type": "stream",
     "text": [
      "1\n",
      "İlk ve son bit: 10\n",
      "Onluk sistemdeki karşılığı: 2\n",
      "Orta dörtlü: 1010\n",
      "Onluk sistemdeki karşılığı: 10\n",
      "\n",
      "2\n",
      "İlk ve son bit: 01\n",
      "Onluk sistemdeki karşılığı: 1\n",
      "Orta dörtlü: 0001\n",
      "Onluk sistemdeki karşılığı: 1\n",
      "\n",
      "3\n",
      "İlk ve son bit: 11\n",
      "Onluk sistemdeki karşılığı: 3\n",
      "Orta dörtlü: 0110\n",
      "Onluk sistemdeki karşılığı: 6\n",
      "\n",
      "4\n",
      "İlk ve son bit: 00\n",
      "Onluk sistemdeki karşılığı: 0\n",
      "Orta dörtlü: 1001\n",
      "Onluk sistemdeki karşılığı: 9\n",
      "\n",
      "5\n",
      "İlk ve son bit: 01\n",
      "Onluk sistemdeki karşılığı: 1\n",
      "Orta dörtlü: 1101\n",
      "Onluk sistemdeki karşılığı: 13\n",
      "\n",
      "6\n",
      "İlk ve son bit: 10\n",
      "Onluk sistemdeki karşılığı: 2\n",
      "Orta dörtlü: 0100\n",
      "Onluk sistemdeki karşılığı: 4\n",
      "\n",
      "7\n",
      "İlk ve son bit: 01\n",
      "Onluk sistemdeki karşılığı: 1\n",
      "Orta dörtlü: 0110\n",
      "Onluk sistemdeki karşılığı: 6\n",
      "\n",
      "8\n",
      "İlk ve son bit: 01\n",
      "Onluk sistemdeki karşılığı: 1\n",
      "Orta dörtlü: 0001\n",
      "Onluk sistemdeki karşılığı: 1\n",
      "\n"
     ]
    }
   ],
   "source": [
    "for i in range(len(splitted_in_6bits)):\n",
    "    print(str(i+1))\n",
    "    print(\"İlk ve son bit: \" + get_first_and_last_bit(splitted_in_6bits[i]))\n",
    "    print(\"Onluk sistemdeki karşılığı: \" + str(binary_to_decimal(get_first_and_last_bit(splitted_in_6bits[i]))))\n",
    "    print(\"Orta dörtlü: \" + get_middle_four_bit(splitted_in_6bits[i]))\n",
    "    print(\"Onluk sistemdeki karşılığı: \" + str(binary_to_decimal(get_middle_four_bit(splitted_in_6bits[i]))))\n",
    "    print(\"\")"
   ]
  },
  {
   "cell_type": "code",
   "execution_count": 16,
   "metadata": {},
   "outputs": [
    {
     "name": "stdout",
     "output_type": "stream",
     "text": [
      "1. Sbox değeri : 1001\n",
      "\n",
      "2. Sbox değeri : 1111\n",
      "\n",
      "3. Sbox değeri : 0001\n",
      "\n",
      "4. Sbox değeri : 1010\n",
      "\n",
      "5. Sbox değeri : 0101\n",
      "\n",
      "6. Sbox değeri : 1101\n",
      "\n",
      "7. Sbox değeri : 1101\n",
      "\n",
      "8. Sbox değeri : 1111\n",
      "\n",
      "Sbox değeri: 10011111000110100101110111011111\n"
     ]
    }
   ],
   "source": [
    "for i in range(len(splitted_in_6bits)):\n",
    "    print(str(i+1) + \". Sbox değeri : \" + sbox_lookup(get_first_and_last_bit(splitted_in_6bits[i]),get_middle_four_bit(splitted_in_6bits[i])))\n",
    "    print(\"\")\n",
    "print(\"Sbox değeri: \" +\n",
    "sbox_lookup(get_first_and_last_bit(splitted_in_6bits[0]),get_middle_four_bit(splitted_in_6bits[0]))+\n",
    "sbox_lookup(get_first_and_last_bit(splitted_in_6bits[1]),get_middle_four_bit(splitted_in_6bits[1]))+\n",
    "sbox_lookup(get_first_and_last_bit(splitted_in_6bits[2]),get_middle_four_bit(splitted_in_6bits[2]))+\n",
    "sbox_lookup(get_first_and_last_bit(splitted_in_6bits[3]),get_middle_four_bit(splitted_in_6bits[3]))+\n",
    "sbox_lookup(get_first_and_last_bit(splitted_in_6bits[4]),get_middle_four_bit(splitted_in_6bits[4]))+\n",
    "sbox_lookup(get_first_and_last_bit(splitted_in_6bits[5]),get_middle_four_bit(splitted_in_6bits[5]))+\n",
    "sbox_lookup(get_first_and_last_bit(splitted_in_6bits[6]),get_middle_four_bit(splitted_in_6bits[6]))+\n",
    "sbox_lookup(get_first_and_last_bit(splitted_in_6bits[7]),get_middle_four_bit(splitted_in_6bits[7])))"
   ]
  },
  {
   "cell_type": "code",
   "execution_count": 17,
   "metadata": {},
   "outputs": [
    {
     "data": {
      "text/plain": [
       "'01111110110111100110100001111011'"
      ]
     },
     "execution_count": 17,
     "metadata": {},
     "output_type": "execute_result"
    }
   ],
   "source": [
    "permutated = apply_permutation(\"10011111000110100101110111011111\")\n",
    "permutated"
   ]
  },
  {
   "cell_type": "code",
   "execution_count": 18,
   "metadata": {},
   "outputs": [
    {
     "data": {
      "text/plain": [
       "'10000001100111101101111011010100'"
      ]
     },
     "execution_count": 18,
     "metadata": {},
     "output_type": "execute_result"
    }
   ],
   "source": [
    "XORed_with_L0 = XOR(L0,permutated)\n",
    "XORed_with_L0"
   ]
  },
  {
   "cell_type": "code",
   "execution_count": 19,
   "metadata": {},
   "outputs": [],
   "source": [
    "L1 = R0\n",
    "R1 = XORed_with_L0"
   ]
  },
  {
   "cell_type": "code",
   "execution_count": 20,
   "metadata": {},
   "outputs": [],
   "source": [
    "inverse_initial_permutation = apply_inverse_permutation(L1 + R1)"
   ]
  },
  {
   "cell_type": "code",
   "execution_count": 21,
   "metadata": {},
   "outputs": [
    {
     "data": {
      "text/plain": [
       "'1001010100111000001111100011100000111110000101010001111110111010'"
      ]
     },
     "execution_count": 21,
     "metadata": {},
     "output_type": "execute_result"
    }
   ],
   "source": [
    "cipher = inverse_initial_permutation\n",
    "cipher"
   ]
  }
 ],
 "metadata": {
  "interpreter": {
   "hash": "b534e2124af7077393f074e7b52eca72645c535c953d670bad1c7cb61116b561"
  },
  "kernelspec": {
   "display_name": "Python 3.10.0 ('minimal_ds')",
   "language": "python",
   "name": "python3"
  },
  "language_info": {
   "codemirror_mode": {
    "name": "ipython",
    "version": 3
   },
   "file_extension": ".py",
   "mimetype": "text/x-python",
   "name": "python",
   "nbconvert_exporter": "python",
   "pygments_lexer": "ipython3",
   "version": "3.10.0"
  },
  "orig_nbformat": 4
 },
 "nbformat": 4,
 "nbformat_minor": 2
}
